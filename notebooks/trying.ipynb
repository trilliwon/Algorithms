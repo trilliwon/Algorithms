{
 "cells": [
  {
   "cell_type": "code",
   "execution_count": 178,
   "metadata": {},
   "outputs": [],
   "source": [
    "class Solution:\n",
    "    def largestDivisibleSubset(self, nums):\n",
    "        nums = sorted(nums)\n",
    "        length = len(nums)\n",
    "        if length <= 1:\n",
    "            return nums\n",
    "        dp = [0] * length\n",
    "        pa = [-1] * length\n",
    "        dp[0] = 1\n",
    "        \n",
    "        maxValue = 0\n",
    "        maxIndex = 0\n",
    "\n",
    "        for i in range(1, length):\n",
    "            for j in reversed(range(0, i)):\n",
    "                if nums[i] % nums[j] == 0 and dp[i] <= dp[j] + 1:\n",
    "                    pa[i] = j\n",
    "                    dp[i] = dp[j] + 1\n",
    "                    if maxValue <= dp[i]:\n",
    "                        maxValue = dp[i]\n",
    "                        maxIndex = i\n",
    "                    \n",
    "\n",
    "        ret = set()\n",
    "        index = maxIndex\n",
    "\n",
    "        while 0 <= index:\n",
    "            if pa[index] != -1:\n",
    "                ret.add(nums[index])\n",
    "                ret.add(nums[pa[index]])\n",
    "                index = pa[index]\n",
    "                if pa[index] == -1:\n",
    "                    break\n",
    "            else:\n",
    "                index -= 1\n",
    "        ret = list(ret)\n",
    "        if len(ret) == 0:\n",
    "            return [nums[0]]\n",
    "        return ret"
   ]
  },
  {
   "cell_type": "code",
   "execution_count": 179,
   "metadata": {},
   "outputs": [
    {
     "name": "stdout",
     "output_type": "stream",
     "text": [
      "[81, 729, 9]\n"
     ]
    }
   ],
   "source": [
    "sol = Solution()\n",
    "testset = [2,4,6,9,19,81,729]\n",
    "print(sol.largestDivisibleSubset(testset))"
   ]
  },
  {
   "cell_type": "code",
   "execution_count": 180,
   "metadata": {},
   "outputs": [
    {
     "name": "stdout",
     "output_type": "stream",
     "text": [
      "[8, 2, 4]\n",
      "[1]\n",
      "[546]\n"
     ]
    }
   ],
   "source": [
    "testset = [2,3,4,9,8]\n",
    "print(sol.largestDivisibleSubset(testset))\n",
    "\n",
    "testset = [1]\n",
    "print(sol.largestDivisibleSubset(testset))\n",
    "\n",
    "testset = [546,669]\n",
    "print(sol.largestDivisibleSubset(testset))"
   ]
  },
  {
   "cell_type": "code",
   "execution_count": 181,
   "metadata": {},
   "outputs": [
    {
     "name": "stdout",
     "output_type": "stream",
     "text": [
      "[3, 9, 27]\n"
     ]
    }
   ],
   "source": [
    "testset = [2,3,6,7,9,27, 31]\n",
    "print(sol.largestDivisibleSubset(testset))"
   ]
  },
  {
   "cell_type": "code",
   "execution_count": 182,
   "metadata": {},
   "outputs": [
    {
     "name": "stdout",
     "output_type": "stream",
     "text": [
      "[8, 1, 2, 4]\n"
     ]
    }
   ],
   "source": [
    "\n",
    "testset = [1, 2,4, 8]\n",
    "print(sol.largestDivisibleSubset(testset))"
   ]
  },
  {
   "cell_type": "code",
   "execution_count": 183,
   "metadata": {},
   "outputs": [
    {
     "name": "stdout",
     "output_type": "stream",
     "text": [
      "[3, 9, 27]\n"
     ]
    }
   ],
   "source": [
    "testset = [2,3,6,7,9,27, 31]\n",
    "print(sol.largestDivisibleSubset(testset))\n"
   ]
  },
  {
   "cell_type": "markdown",
   "metadata": {},
   "source": [
    "[wiggle sequences](https://leetcode.com/problems/wiggle-subsequence/submissions/)"
   ]
  },
  {
   "cell_type": "code",
   "execution_count": null,
   "metadata": {},
   "outputs": [],
   "source": [
    "class Solution:\n",
    "    def wiggleMaxLength(self, nums: List[int]) -> int:\n",
    "        length = len(nums)\n",
    "        if length == 0:\n",
    "            return 0\n",
    "        if length < 2:\n",
    "            return 1\n",
    "\n",
    "        answer = 0\n",
    "        for c in [True, False]:\n",
    "            comp = [nums[0]]\n",
    "            compare = c\n",
    "            for i in range(1, length):\n",
    "                if compare and nums[i-1] < nums[i]:\n",
    "                    comp.append(nums[i])\n",
    "                    compare = not compare\n",
    "                elif not compare and nums[i-1] > nums[i]:\n",
    "                    comp.append(nums[i])\n",
    "                    compare = not compare\n",
    "            answer = max(answer, len(comp))\n",
    "        return answer"
   ]
  }
 ],
 "metadata": {
  "kernelspec": {
   "display_name": "Python 3",
   "language": "python",
   "name": "python3"
  },
  "language_info": {
   "codemirror_mode": {
    "name": "ipython",
    "version": 3
   },
   "file_extension": ".py",
   "mimetype": "text/x-python",
   "name": "python",
   "nbconvert_exporter": "python",
   "pygments_lexer": "ipython3",
   "version": "3.7.5"
  }
 },
 "nbformat": 4,
 "nbformat_minor": 2
}
